{
 "cells": [
  {
   "cell_type": "code",
   "execution_count": null,
   "metadata": {
    "scrolled": false
   },
   "outputs": [],
   "source": [
    "import os\n",
    "versions = os.listdir('log')\n",
    "for i, item in enumerate(versions):\n",
    "    versions[i] = item[:-4]\n",
    "\n",
    "version = versions[0]\n",
    "print('version list : {}'.format(versions))\n",
    "print()\n",
    "print('version : {}'.format(version))\n",
    "print()\n",
    "\n",
    "%matplotlib inline\n",
    "import matplotlib.pyplot as plt\n",
    "path = 'log/'+version+'.log'\n",
    "with open(path,'r') as f:\n",
    "    lines = f.readlines()\n",
    "tmp=0\n",
    "for i, line in enumerate(lines):\n",
    "    if 'setting' in line :\n",
    "        tmp+=1\n",
    "    if tmp==2:\n",
    "        idx=i+1\n",
    "        break\n",
    "    if line.strip() == 'INFO |':\n",
    "        pass\n",
    "    else:\n",
    "        print(line.strip())\n",
    "\n",
    "xs = []\n",
    "ys = []\n",
    "flag = 0\n",
    "\n",
    "j=1\n",
    "for i,line in enumerate(lines):\n",
    "    if i<idx:\n",
    "        continue\n",
    "    if 'DEBUG' not in line:\n",
    "        continue\n",
    "    if 'completed' in line :\n",
    "        break\n",
    "    xs.append(j)\n",
    "    ys.append(float(line.split()[-1]))\n",
    "    j+=1\n",
    "        \n",
    "#plt.scatter(xs,ys)\n",
    "plt.plot(xs,ys)\n",
    "plt.show()\n",
    "\n",
    "for i,line in enumerate(lines):\n",
    "    if '------- model training start -------' in line:\n",
    "        print(line.strip())\n",
    "    if 'done' in line:\n",
    "        print(line.strip())\n",
    "    if 'completed' in line:\n",
    "        print(line.strip())\n",
    "        \n",
    "xs = []\n",
    "ys = []\n",
    "\n",
    "j=1\n",
    "for i, line in enumerate(lines):\n",
    "    if 'done' in line:\n",
    "        xs.append(j)\n",
    "        ys.append(float(line.split()[-1]))\n",
    "        j+=1\n",
    "        \n",
    "plt.plot(xs,ys)\n",
    "plt.show()\n"
   ]
  },
  {
   "cell_type": "code",
   "execution_count": null,
   "metadata": {},
   "outputs": [],
   "source": [
    "import pandas as pd\n",
    "import os \n",
    "from pprint import pprint\n",
    "\n",
    "submissions = os.listdir('submission')\n",
    "\n",
    "a=[]\n",
    "for item in submissions: \n",
    "    submission = 'submission/'+item\n",
    "    submission_data = pd.read_csv(submission)\n",
    "\n",
    "    i=0\n",
    "    for item in submission_data['Id']:\n",
    "        if item[:3] == 'new':\n",
    "            pass\n",
    "        else:\n",
    "            i+=1\n",
    "    a.append(i)\n",
    "\n",
    "pprint(list(zip(submissions,a)))"
   ]
  },
  {
   "cell_type": "code",
   "execution_count": null,
   "metadata": {},
   "outputs": [],
   "source": [
    "import pandas as pd\n",
    "import os \n",
    "\n",
    "n=1\n",
    "\n",
    "submissions = os.listdir('submission')\n",
    "submission = 'submission/'+submissions[n]\n",
    "submission_data = pd.read_csv(submission)\n",
    "\n",
    "print(submissions)"
   ]
  },
  {
   "cell_type": "code",
   "execution_count": null,
   "metadata": {},
   "outputs": [],
   "source": [
    "for item in submission_data['Id']:\n",
    "    if 'new_whale' in item:\n",
    "        print(item)"
   ]
  },
  {
   "cell_type": "code",
   "execution_count": null,
   "metadata": {},
   "outputs": [],
   "source": [
    "submission"
   ]
  },
  {
   "cell_type": "code",
   "execution_count": null,
   "metadata": {},
   "outputs": [],
   "source": [
    "submission_data"
   ]
  },
  {
   "cell_type": "code",
   "execution_count": null,
   "metadata": {},
   "outputs": [],
   "source": []
  }
 ],
 "metadata": {
  "kernelspec": {
   "display_name": "Python 3",
   "language": "python",
   "name": "python3"
  },
  "language_info": {
   "codemirror_mode": {
    "name": "ipython",
    "version": 3
   },
   "file_extension": ".py",
   "mimetype": "text/x-python",
   "name": "python",
   "nbconvert_exporter": "python",
   "pygments_lexer": "ipython3",
   "version": "3.7.2"
  }
 },
 "nbformat": 4,
 "nbformat_minor": 2
}
