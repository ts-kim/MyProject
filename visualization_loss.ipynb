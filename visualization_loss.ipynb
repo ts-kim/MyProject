{
 "cells": [
  {
   "cell_type": "code",
   "execution_count": 20,
   "metadata": {
    "scrolled": false
   },
   "outputs": [
    {
     "name": "stdout",
     "output_type": "stream",
     "text": [
      "version list : ['ver_3']\n",
      "\n",
      "version : ver_3\n",
      "\n",
      "INFO | 2019.01.20 - 17h:57m:25s\n",
      "INFO | main.py --version ver_3 --gpu 2 --batch_size 64 --num_epoch 100 --lr 0.0001\n",
      "INFO |  -------------------- setting --------------------\n",
      "INFO |     version : ver_3\n",
      "INFO |     model save path : saved_model/\n",
      "INFO |     gpu : 2\n",
      "INFO |     number of epochs : 100\n",
      "INFO |     batch size : 64\n",
      "INFO |     learning rate : 0.0001\n",
      "INFO |     data path : dataset/\n"
     ]
    },
    {
     "data": {
      "image/png": "[encoded data removed]",
      "text/plain": [
       "<Figure size 432x288 with 1 Axes>"
      ]
     },
     "metadata": {
      "needs_background": "light"
     },
     "output_type": "display_data"
    },
    {
     "name": "stdout",
     "output_type": "stream",
     "text": [
      "INFO |  ------- model training start -------\n",
      "INFO |     epoch 1/100 done | avg.loss : 6.29654\n",
      "INFO |     epoch 2/100 done | avg.loss : 5.77474\n",
      "INFO |     epoch 3/100 done | avg.loss : 5.64466\n",
      "INFO |     epoch 4/100 done | avg.loss : 5.50574\n",
      "INFO |     epoch 5/100 done | avg.loss : 5.36461\n",
      "INFO |     epoch 6/100 done | avg.loss : 5.21275\n",
      "INFO |     epoch 7/100 done | avg.loss : 5.07618\n",
      "INFO |     epoch 8/100 done | avg.loss : 4.95955\n",
      "INFO |     epoch 9/100 done | avg.loss : 4.82177\n",
      "INFO |     epoch 10/100 done | avg.loss : 4.71306\n",
      "INFO |     epoch 11/100 done | avg.loss : 4.57669\n",
      "INFO |     epoch 12/100 done | avg.loss : 4.43172\n",
      "INFO |     epoch 13/100 done | avg.loss : 4.29667\n",
      "INFO |     epoch 14/100 done | avg.loss : 4.15624\n",
      "INFO |     epoch 15/100 done | avg.loss : 4.01505\n",
      "INFO |     epoch 16/100 done | avg.loss : 3.87141\n",
      "INFO |     epoch 17/100 done | avg.loss : 3.71473\n",
      "INFO |     epoch 18/100 done | avg.loss : 3.58083\n",
      "INFO |     epoch 19/100 done | avg.loss : 3.45217\n",
      "INFO |     epoch 20/100 done | avg.loss : 3.29184\n",
      "INFO |     epoch 21/100 done | avg.loss : 3.14339\n",
      "INFO |     epoch 22/100 done | avg.loss : 3.01796\n",
      "INFO |     epoch 23/100 done | avg.loss : 2.86215\n",
      "INFO |     epoch 24/100 done | avg.loss : 2.74489\n",
      "INFO |     epoch 25/100 done | avg.loss : 2.61747\n",
      "INFO |     epoch 26/100 done | avg.loss : 2.50526\n",
      "INFO |     epoch 27/100 done | avg.loss : 2.40666\n",
      "INFO |     epoch 28/100 done | avg.loss : 2.29014\n",
      "INFO |     epoch 29/100 done | avg.loss : 2.21032\n",
      "INFO |     epoch 30/100 done | avg.loss : 2.09454\n",
      "INFO |     epoch 31/100 done | avg.loss : 2.03123\n",
      "INFO |     epoch 32/100 done | avg.loss : 1.91441\n",
      "INFO |     epoch 33/100 done | avg.loss : 1.85035\n",
      "INFO |     epoch 34/100 done | avg.loss : 1.76539\n",
      "INFO |     epoch 35/100 done | avg.loss : 1.70135\n",
      "INFO |     epoch 36/100 done | avg.loss : 1.65889\n",
      "INFO |     epoch 37/100 done | avg.loss : 1.59925\n",
      "INFO |     epoch 38/100 done | avg.loss : 1.52455\n",
      "INFO |     epoch 39/100 done | avg.loss : 1.46412\n",
      "INFO |     epoch 40/100 done | avg.loss : 1.44508\n",
      "INFO |     epoch 41/100 done | avg.loss : 1.36210\n",
      "INFO |     epoch 42/100 done | avg.loss : 1.31986\n",
      "INFO |     epoch 43/100 done | avg.loss : 1.27795\n",
      "INFO |     epoch 44/100 done | avg.loss : 1.23493\n",
      "INFO |     epoch 45/100 done | avg.loss : 1.18777\n",
      "INFO |     epoch 46/100 done | avg.loss : 1.15181\n",
      "INFO |     epoch 47/100 done | avg.loss : 1.13812\n",
      "INFO |     epoch 48/100 done | avg.loss : 1.07931\n",
      "INFO |     epoch 49/100 done | avg.loss : 1.06484\n",
      "INFO |     epoch 50/100 done | avg.loss : 1.03201\n",
      "INFO |     epoch 51/100 done | avg.loss : 1.01630\n",
      "INFO |     epoch 52/100 done | avg.loss : 0.97573\n",
      "INFO |     epoch 53/100 done | avg.loss : 0.94675\n",
      "INFO |     epoch 54/100 done | avg.loss : 0.92650\n",
      "INFO |     epoch 55/100 done | avg.loss : 0.90402\n",
      "INFO |     epoch 56/100 done | avg.loss : 0.88618\n",
      "INFO |     epoch 57/100 done | avg.loss : 0.86184\n",
      "INFO |     epoch 58/100 done | avg.loss : 0.83863\n",
      "INFO |     epoch 59/100 done | avg.loss : 0.82130\n",
      "INFO |     epoch 60/100 done | avg.loss : 0.80365\n",
      "INFO |     epoch 61/100 done | avg.loss : 0.77831\n",
      "INFO |     epoch 62/100 done | avg.loss : 0.76975\n",
      "INFO |     epoch 63/100 done | avg.loss : 0.75632\n",
      "INFO |     epoch 64/100 done | avg.loss : 0.72417\n",
      "INFO |     epoch 65/100 done | avg.loss : 0.72173\n",
      "INFO |     epoch 66/100 done | avg.loss : 0.69943\n",
      "INFO |     epoch 67/100 done | avg.loss : 0.68458\n",
      "INFO |     epoch 68/100 done | avg.loss : 0.68149\n",
      "INFO |     epoch 69/100 done | avg.loss : 0.69141\n",
      "INFO |     epoch 70/100 done | avg.loss : 0.65067\n",
      "INFO |     epoch 71/100 done | avg.loss : 0.63445\n",
      "INFO |     epoch 72/100 done | avg.loss : 0.63353\n",
      "INFO |     epoch 73/100 done | avg.loss : 0.61244\n",
      "INFO |     epoch 74/100 done | avg.loss : 0.61413\n",
      "INFO |     epoch 75/100 done | avg.loss : 0.58766\n",
      "INFO |     epoch 76/100 done | avg.loss : 0.59689\n",
      "INFO |     epoch 77/100 done | avg.loss : 0.58856\n",
      "INFO |     epoch 78/100 done | avg.loss : 0.56027\n",
      "INFO |     epoch 79/100 done | avg.loss : 0.57275\n",
      "INFO |     epoch 80/100 done | avg.loss : 0.54811\n",
      "INFO |     epoch 81/100 done | avg.loss : 0.53117\n",
      "INFO |     epoch 82/100 done | avg.loss : 0.52326\n",
      "INFO |     epoch 83/100 done | avg.loss : 0.50405\n",
      "INFO |     epoch 84/100 done | avg.loss : 0.51349\n",
      "INFO |     epoch 85/100 done | avg.loss : 0.50005\n",
      "INFO |     epoch 86/100 done | avg.loss : 0.50158\n",
      "INFO |     epoch 87/100 done | avg.loss : 0.49437\n",
      "INFO |     epoch 88/100 done | avg.loss : 0.48821\n",
      "INFO |     epoch 89/100 done | avg.loss : 0.46440\n",
      "INFO |     epoch 90/100 done | avg.loss : 0.46917\n",
      "INFO |     epoch 91/100 done | avg.loss : 0.47636\n",
      "INFO |     epoch 92/100 done | avg.loss : 0.46348\n",
      "INFO |     epoch 93/100 done | avg.loss : 0.45425\n",
      "INFO |     epoch 94/100 done | avg.loss : 0.45618\n",
      "INFO |     epoch 95/100 done | avg.loss : 0.45616\n",
      "INFO |     epoch 96/100 done | avg.loss : 0.45135\n",
      "INFO |     epoch 97/100 done | avg.loss : 0.42857\n",
      "INFO |     epoch 98/100 done | avg.loss : 0.42520\n",
      "INFO |     epoch 99/100 done | avg.loss : 0.42834\n",
      "INFO |     epoch 100/100 done | avg.loss : 0.43126\n",
      "INFO |  ------- model training completed -------\n"
     ]
    },
    {
     "data": {
      "image/png": "[encoded data removed]",
      "text/plain": [
       "<Figure size 432x288 with 1 Axes>"
      ]
     },
     "metadata": {
      "needs_background": "light"
     },
     "output_type": "display_data"
    }
   ],
   "source": [
    "import os\n",
    "versions = os.listdir('log')\n",
    "for i, item in enumerate(versions):\n",
    "    versions[i] = item[:-4]\n",
    "\n",
    "version = versions[0]\n",
    "print('version list : {}'.format(versions))\n",
    "print()\n",
    "print('version : {}'.format(version))\n",
    "print()\n",
    "\n",
    "%matplotlib inline\n",
    "import matplotlib.pyplot as plt\n",
    "path = 'log/'+version+'.log'\n",
    "with open(path,'r') as f:\n",
    "    lines = f.readlines()\n",
    "tmp=0\n",
    "for i, line in enumerate(lines):\n",
    "    if 'setting' in line :\n",
    "        tmp+=1\n",
    "    if tmp==2:\n",
    "        idx=i+1\n",
    "        break\n",
    "    if line.strip() == 'INFO |':\n",
    "        pass\n",
    "    else:\n",
    "        print(line.strip())\n",
    "\n",
    "xs = []\n",
    "ys = []\n",
    "flag = 0\n",
    "\n",
    "j=1\n",
    "for i,line in enumerate(lines):\n",
    "    if i<idx:\n",
    "        continue\n",
    "    if 'DEBUG' not in line:\n",
    "        continue\n",
    "    if 'completed' in line :\n",
    "        break\n",
    "    xs.append(j)\n",
    "    ys.append(float(line.split()[-1]))\n",
    "    j+=1\n",
    "        \n",
    "#plt.scatter(xs,ys)\n",
    "plt.plot(xs,ys)\n",
    "plt.show()\n",
    "\n",
    "for i,line in enumerate(lines):\n",
    "    if '------- model training start -------' in line:\n",
    "        print(line.strip())\n",
    "    if 'done' in line:\n",
    "        print(line.strip())\n",
    "    if 'completed' in line:\n",
    "        print(line.strip())\n",
    "        \n",
    "xs = []\n",
    "ys = []\n",
    "\n",
    "j=1\n",
    "for i, line in enumerate(lines):\n",
    "    if 'done' in line:\n",
    "        xs.append(j)\n",
    "        ys.append(float(line.split()[-1]))\n",
    "        j+=1\n",
    "        \n",
    "plt.plot(xs,ys)\n",
    "plt.show()\n"
   ]
  },
  {
   "cell_type": "code",
   "execution_count": 21,
   "metadata": {},
   "outputs": [
    {
     "name": "stdout",
     "output_type": "stream",
     "text": [
      "[('ver_3-40.csv', 293),\n",
      " ('ver_3-99.csv', 407),\n",
      " ('ver_3-20.csv', 357),\n",
      " ('ver_3-50.csv', 370),\n",
      " ('ver_3-0.csv', 6),\n",
      " ('ver_3-80.csv', 182),\n",
      " ('ver_3-60.csv', 658),\n",
      " ('ver_3-10.csv', 195),\n",
      " ('ver_3-90.csv', 340),\n",
      " ('ver_3-70.csv', 327),\n",
      " ('ver_3-30.csv', 567)]\n"
     ]
    }
   ],
   "source": [
    "import pandas as pd\n",
    "import os \n",
    "from pprint import pprint\n",
    "\n",
    "submissions = os.listdir('submission')\n",
    "\n",
    "a=[]\n",
    "for item in submissions: \n",
    "    submission = 'submission/'+item\n",
    "    submission_data = pd.read_csv(submission)\n",
    "\n",
    "    i=0\n",
    "    for item in submission_data['Id']:\n",
    "        if item[:3] == 'new':\n",
    "            pass\n",
    "        else:\n",
    "            i+=1\n",
    "    a.append(i)\n",
    "\n",
    "pprint(list(zip(submissions,a)))"
   ]
  },
  {
   "cell_type": "code",
   "execution_count": 22,
   "metadata": {},
   "outputs": [
    {
     "name": "stdout",
     "output_type": "stream",
     "text": [
      "['ver_3-40.csv', 'ver_3-99.csv', 'ver_3-20.csv', 'ver_3-50.csv', 'ver_3-0.csv', 'ver_3-80.csv', 'ver_3-60.csv', 'ver_3-10.csv', 'ver_3-90.csv', 'ver_3-70.csv', 'ver_3-30.csv']\n"
     ]
    }
   ],
   "source": [
    "import pandas as pd\n",
    "import os \n",
    "\n",
    "n=0\n",
    "\n",
    "submissions = os.listdir('submission')\n",
    "submission = 'submission/'+submissions[n]\n",
    "submission_data = pd.read_csv(submission)\n",
    "\n",
    "print(submissions)"
   ]
  },
  {
   "cell_type": "code",
   "execution_count": null,
   "metadata": {},
   "outputs": [],
   "source": []
  }
 ],
 "metadata": {
  "kernelspec": {
   "display_name": "Python 3",
   "language": "python",
   "name": "python3"
  },
  "language_info": {
   "codemirror_mode": {
    "name": "ipython",
    "version": 3
   },
   "file_extension": ".py",
   "mimetype": "text/x-python",
   "name": "python",
   "nbconvert_exporter": "python",
   "pygments_lexer": "ipython3",
   "version": "3.7.2"
  }
 },
 "nbformat": 4,
 "nbformat_minor": 2
}
